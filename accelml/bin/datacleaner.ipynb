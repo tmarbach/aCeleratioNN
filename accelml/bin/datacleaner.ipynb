{
 "cells": [
  {
   "cell_type": "code",
   "execution_count": 2,
   "metadata": {},
   "outputs": [],
   "source": [
    "import pandas as pd"
   ]
  },
  {
   "cell_type": "code",
   "execution_count": 7,
   "metadata": {},
   "outputs": [],
   "source": [
    "pf = pd.read_csv('allobsJTLA0517.csv')\n",
    "npf = pf.drop(columns=['Camera date', 'Camera time'])\n",
    "npff = npf.iloc[: , 1:]\n",
    "rpf = npff.round({'accX': 3, 'accY': 3, 'accZ':3})\n",
    "rpf.to_csv('allcleanJTLA0517.csv')"
   ]
  },
  {
   "cell_type": "code",
   "execution_count": 8,
   "metadata": {},
   "outputs": [],
   "source": [
    "pf = pd.read_csv('allobsJTLA09.csv')\n",
    "npf = pf.drop(columns=['Camera date', 'Camera time'])\n",
    "npff = npf.iloc[: , 1:]\n",
    "rpf = npff.round({'accX': 3, 'accY': 3, 'accZ':3})\n",
    "rpf.to_csv('allcleanJTLA09.csv')"
   ]
  },
  {
   "cell_type": "code",
   "execution_count": 9,
   "metadata": {},
   "outputs": [],
   "source": [
    "pf = pd.read_csv('allobsPen110521R2.csv')\n",
    "npf = pf.drop(columns=['Camera date', 'Camera time'])\n",
    "npff = npf.iloc[: , 1:]\n",
    "rpf = npff.round({'accX': 3, 'accY': 3, 'accZ':3})\n",
    "rpf.to_csv('allcleanPen110521R2.csv')"
   ]
  },
  {
   "cell_type": "code",
   "execution_count": 10,
   "metadata": {},
   "outputs": [],
   "source": [
    "pf = pd.read_csv('allobsPen11FullR1_non.csv')\n",
    "npf = pf.drop(columns=['Camera date', 'Camera time'])\n",
    "npff = npf.iloc[: , 1:]\n",
    "rpf = npff.round({'accX': 3, 'accY': 3, 'accZ':3})\n",
    "rpf.to_csv('allcleanPen11FullR1_non.csv')"
   ]
  },
  {
   "cell_type": "code",
   "execution_count": null,
   "metadata": {},
   "outputs": [],
   "source": []
  }
 ],
 "metadata": {
  "kernelspec": {
   "display_name": "Python 3",
   "language": "python",
   "name": "python3"
  },
  "language_info": {
   "codemirror_mode": {
    "name": "ipython",
    "version": 3
   },
   "file_extension": ".py",
   "mimetype": "text/x-python",
   "name": "python",
   "nbconvert_exporter": "python",
   "pygments_lexer": "ipython3",
   "version": "3.7.6"
  }
 },
 "nbformat": 4,
 "nbformat_minor": 4
}
